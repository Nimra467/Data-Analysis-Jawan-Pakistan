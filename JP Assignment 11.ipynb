{
 "cells": [
  {
   "cell_type": "code",
   "execution_count": 1,
   "id": "1efe6657",
   "metadata": {},
   "outputs": [],
   "source": [
    "import csv"
   ]
  },
  {
   "cell_type": "code",
   "execution_count": 2,
   "id": "c58aba8a",
   "metadata": {},
   "outputs": [
    {
     "data": {
      "text/plain": [
       "['Dialect',\n",
       " 'DictReader',\n",
       " 'DictWriter',\n",
       " 'Error',\n",
       " 'QUOTE_ALL',\n",
       " 'QUOTE_MINIMAL',\n",
       " 'QUOTE_NONE',\n",
       " 'QUOTE_NONNUMERIC',\n",
       " 'Sniffer',\n",
       " 'StringIO',\n",
       " '_Dialect',\n",
       " '__all__',\n",
       " '__builtins__',\n",
       " '__cached__',\n",
       " '__doc__',\n",
       " '__file__',\n",
       " '__loader__',\n",
       " '__name__',\n",
       " '__package__',\n",
       " '__spec__',\n",
       " '__version__',\n",
       " 'excel',\n",
       " 'excel_tab',\n",
       " 'field_size_limit',\n",
       " 'get_dialect',\n",
       " 'list_dialects',\n",
       " 're',\n",
       " 'reader',\n",
       " 'register_dialect',\n",
       " 'unix_dialect',\n",
       " 'unregister_dialect',\n",
       " 'writer']"
      ]
     },
     "execution_count": 2,
     "metadata": {},
     "output_type": "execute_result"
    }
   ],
   "source": [
    "dir(csv)"
   ]
  },
  {
   "cell_type": "code",
   "execution_count": 3,
   "id": "ed688b8e",
   "metadata": {},
   "outputs": [
    {
     "data": {
      "text/plain": [
       "<_io.TextIOWrapper name='student data.csv' mode='r' encoding='cp1252'>"
      ]
     },
     "execution_count": 3,
     "metadata": {},
     "output_type": "execute_result"
    }
   ],
   "source": [
    "open_file = open('student data.csv',mode = 'r')\n",
    "open_file"
   ]
  },
  {
   "cell_type": "code",
   "execution_count": 4,
   "id": "07a61346",
   "metadata": {},
   "outputs": [],
   "source": [
    "reader = csv.reader(open_file)"
   ]
  },
  {
   "cell_type": "code",
   "execution_count": 5,
   "id": "e2def10f",
   "metadata": {},
   "outputs": [
    {
     "data": {
      "text/plain": [
       "<_csv.reader at 0x2dc16080640>"
      ]
     },
     "execution_count": 5,
     "metadata": {},
     "output_type": "execute_result"
    }
   ],
   "source": [
    "reader"
   ]
  },
  {
   "cell_type": "code",
   "execution_count": 6,
   "id": "00838e12",
   "metadata": {},
   "outputs": [],
   "source": [
    "data = list(reader)"
   ]
  },
  {
   "cell_type": "code",
   "execution_count": 7,
   "id": "c4313e7b",
   "metadata": {},
   "outputs": [
    {
     "data": {
      "text/plain": [
       "[['roll no', 'Name', 'Chemistry', 'Physics', 'Math'],\n",
       " ['101', 'Aliza', '50', '23', '87'],\n",
       " ['102', 'Fareed', '45', '24', '88'],\n",
       " ['103', 'Basit', '46', '25', '89'],\n",
       " ['104', 'Abdullah', '47', '26', '90'],\n",
       " ['105', 'Ali', '48', '27', '67'],\n",
       " ['106', 'Mubashir', '49', '28', '68'],\n",
       " ['107', 'Waleed', '50', '29', '69'],\n",
       " ['108', 'Mansoor', '51', '30', '70'],\n",
       " ['109', 'Zain', '52', '31', '71'],\n",
       " ['110', 'Mohsin', '53', '67', '72'],\n",
       " ['111', 'Shahmeer', '54', '68', '73'],\n",
       " ['112', 'Rao', '55', '69', '74'],\n",
       " ['113', 'Aurangzeb', '56', '70', '75'],\n",
       " ['114', 'Zeeshan', '57', '71', '76'],\n",
       " ['115', 'Hamna', '58', '72', '77'],\n",
       " ['116', 'Hamza', '59', '73', '78'],\n",
       " ['117', 'Khalid', '60', '74', '79'],\n",
       " ['118', 'Behroz', '61', '75', '80'],\n",
       " ['119', 'Justin', '62', '76', '81'],\n",
       " ['120', 'Danish', '63', '77', '82'],\n",
       " ['121', 'Kainat', '64', '78', '83'],\n",
       " ['122', 'Sameer', '65', '79', '84'],\n",
       " ['123', 'Raza', '66', '80', '85'],\n",
       " ['124', 'Kumar', '67', '81', '86'],\n",
       " ['125', 'Komal', '68', '82', '87'],\n",
       " ['126', 'Erum', '69', '83', '88'],\n",
       " ['127', 'Faiza', '70', '84', '89'],\n",
       " ['128', 'Saeed', '71', '85', '90'],\n",
       " ['129', 'Waqar', '72', '86', '91'],\n",
       " ['130', 'Wali', '73', '87', '92'],\n",
       " ['131', 'Wajid', '74', '88', '93'],\n",
       " ['132', 'Waseeb', '75', '89', '94'],\n",
       " ['133', 'Shiza', '76', '90', '95'],\n",
       " ['134', 'Shabina', '77', '91', '96'],\n",
       " ['135', 'Shazain', '78', '55', '97'],\n",
       " ['136', 'Lubna', '79', '61', '98'],\n",
       " ['137', 'Laiba', '80', '88', '78'],\n",
       " ['138', 'Khursheed', '81', '56', '45'],\n",
       " ['139', 'Ali', '82', '89', '46'],\n",
       " ['140', 'Aiza', '83', '45', '89'],\n",
       " ['141', 'Aiman', '84', '92', '78'],\n",
       " ['142', 'Yasmeen', '85', '36', '56'],\n",
       " ['143', 'Tasbeel', '86', '78', '78'],\n",
       " ['144', 'Laraib', '87', '56', '54'],\n",
       " ['145', 'Saleem', '88', '78', '78'],\n",
       " ['146', 'Bismil', '89', '89', '46'],\n",
       " ['147', 'Batool', '90', '56', '79'],\n",
       " ['148', 'Iqra', '91', '33', '46'],\n",
       " ['149', 'Zarnish', '92', '78', '45'],\n",
       " ['150', 'Zara', '83', '45', '56']]"
      ]
     },
     "execution_count": 7,
     "metadata": {},
     "output_type": "execute_result"
    }
   ],
   "source": [
    "data"
   ]
  },
  {
   "cell_type": "code",
   "execution_count": 8,
   "id": "b1e14866",
   "metadata": {},
   "outputs": [
    {
     "name": "stdout",
     "output_type": "stream",
     "text": [
      "roll no\n",
      "101\n",
      "102\n",
      "103\n",
      "104\n",
      "105\n",
      "106\n",
      "107\n",
      "108\n",
      "109\n",
      "110\n",
      "111\n",
      "112\n",
      "113\n",
      "114\n",
      "115\n",
      "116\n",
      "117\n",
      "118\n",
      "119\n",
      "120\n",
      "121\n",
      "122\n",
      "123\n",
      "124\n",
      "125\n",
      "126\n",
      "127\n",
      "128\n",
      "129\n",
      "130\n",
      "131\n",
      "132\n",
      "133\n",
      "134\n",
      "135\n",
      "136\n",
      "137\n",
      "138\n",
      "139\n",
      "140\n",
      "141\n",
      "142\n",
      "143\n",
      "144\n",
      "145\n",
      "146\n",
      "147\n",
      "148\n",
      "149\n",
      "150\n"
     ]
    }
   ],
   "source": [
    "for i in data:\n",
    "    print(i[0])"
   ]
  },
  {
   "cell_type": "code",
   "execution_count": 9,
   "id": "c7dd9af0",
   "metadata": {},
   "outputs": [],
   "source": [
    "data[0].insert(5, \"percentage\")\n",
    "data[0].insert(6, \"grade\")\n"
   ]
  },
  {
   "cell_type": "code",
   "execution_count": 10,
   "id": "9d0c56d1",
   "metadata": {},
   "outputs": [
    {
     "name": "stdout",
     "output_type": "stream",
     "text": [
      "160\n",
      "53.33\n",
      "157\n",
      "52.33\n",
      "160\n",
      "53.33\n",
      "163\n",
      "54.33\n",
      "142\n",
      "47.33\n",
      "145\n",
      "48.33\n",
      "148\n",
      "49.33\n",
      "151\n",
      "50.33\n",
      "154\n",
      "51.33\n",
      "192\n",
      "64.0\n",
      "195\n",
      "65.0\n",
      "198\n",
      "66.0\n",
      "201\n",
      "67.0\n",
      "204\n",
      "68.0\n",
      "207\n",
      "69.0\n",
      "210\n",
      "70.0\n",
      "213\n",
      "71.0\n",
      "216\n",
      "72.0\n",
      "219\n",
      "73.0\n",
      "222\n",
      "74.0\n",
      "225\n",
      "75.0\n",
      "228\n",
      "76.0\n",
      "231\n",
      "77.0\n",
      "234\n",
      "78.0\n",
      "237\n",
      "79.0\n",
      "240\n",
      "80.0\n",
      "243\n",
      "81.0\n",
      "246\n",
      "82.0\n",
      "249\n",
      "83.0\n",
      "252\n",
      "84.0\n",
      "255\n",
      "85.0\n",
      "258\n",
      "86.0\n",
      "261\n",
      "87.0\n",
      "264\n",
      "88.0\n",
      "230\n",
      "76.67\n",
      "238\n",
      "79.33\n",
      "246\n",
      "82.0\n",
      "182\n",
      "60.67\n",
      "217\n",
      "72.33\n",
      "217\n",
      "72.33\n",
      "254\n",
      "84.67\n",
      "177\n",
      "59.0\n",
      "242\n",
      "80.67\n",
      "197\n",
      "65.67\n",
      "244\n",
      "81.33\n",
      "224\n",
      "74.67\n",
      "225\n",
      "75.0\n",
      "170\n",
      "56.67\n",
      "215\n",
      "71.67\n",
      "184\n",
      "61.33\n"
     ]
    }
   ],
   "source": [
    "for i in data[1:]:\n",
    "    marks_obtained = int(i[2])+int(i[3])+int(i[4])\n",
    "    print(marks_obtained)\n",
    "    percentage = round(marks_obtained/300*100,2)\n",
    "    print(percentage)\n",
    "    i.append(percentage)\n",
    "    if percentage >= 80:\n",
    "        i.append(\"A\")\n",
    "    elif percentage >= 70:\n",
    "        i.append(\"B\")\n",
    "    elif percentage >= 60:\n",
    "        i.append(\"C\")\n",
    "    elif percentage >= 50:\n",
    "        i.append(\"D\")\n",
    "    else:\n",
    "        i.append(\"F\")"
   ]
  },
  {
   "cell_type": "code",
   "execution_count": 11,
   "id": "54099c0b",
   "metadata": {},
   "outputs": [
    {
     "data": {
      "text/plain": [
       "[['roll no', 'Name', 'Chemistry', 'Physics', 'Math', 'percentage', 'grade'],\n",
       " ['101', 'Aliza', '50', '23', '87', 53.33, 'D'],\n",
       " ['102', 'Fareed', '45', '24', '88', 52.33, 'D'],\n",
       " ['103', 'Basit', '46', '25', '89', 53.33, 'D'],\n",
       " ['104', 'Abdullah', '47', '26', '90', 54.33, 'D'],\n",
       " ['105', 'Ali', '48', '27', '67', 47.33, 'F'],\n",
       " ['106', 'Mubashir', '49', '28', '68', 48.33, 'F'],\n",
       " ['107', 'Waleed', '50', '29', '69', 49.33, 'F'],\n",
       " ['108', 'Mansoor', '51', '30', '70', 50.33, 'D'],\n",
       " ['109', 'Zain', '52', '31', '71', 51.33, 'D'],\n",
       " ['110', 'Mohsin', '53', '67', '72', 64.0, 'C'],\n",
       " ['111', 'Shahmeer', '54', '68', '73', 65.0, 'C'],\n",
       " ['112', 'Rao', '55', '69', '74', 66.0, 'C'],\n",
       " ['113', 'Aurangzeb', '56', '70', '75', 67.0, 'C'],\n",
       " ['114', 'Zeeshan', '57', '71', '76', 68.0, 'C'],\n",
       " ['115', 'Hamna', '58', '72', '77', 69.0, 'C'],\n",
       " ['116', 'Hamza', '59', '73', '78', 70.0, 'B'],\n",
       " ['117', 'Khalid', '60', '74', '79', 71.0, 'B'],\n",
       " ['118', 'Behroz', '61', '75', '80', 72.0, 'B'],\n",
       " ['119', 'Justin', '62', '76', '81', 73.0, 'B'],\n",
       " ['120', 'Danish', '63', '77', '82', 74.0, 'B'],\n",
       " ['121', 'Kainat', '64', '78', '83', 75.0, 'B'],\n",
       " ['122', 'Sameer', '65', '79', '84', 76.0, 'B'],\n",
       " ['123', 'Raza', '66', '80', '85', 77.0, 'B'],\n",
       " ['124', 'Kumar', '67', '81', '86', 78.0, 'B'],\n",
       " ['125', 'Komal', '68', '82', '87', 79.0, 'B'],\n",
       " ['126', 'Erum', '69', '83', '88', 80.0, 'A'],\n",
       " ['127', 'Faiza', '70', '84', '89', 81.0, 'A'],\n",
       " ['128', 'Saeed', '71', '85', '90', 82.0, 'A'],\n",
       " ['129', 'Waqar', '72', '86', '91', 83.0, 'A'],\n",
       " ['130', 'Wali', '73', '87', '92', 84.0, 'A'],\n",
       " ['131', 'Wajid', '74', '88', '93', 85.0, 'A'],\n",
       " ['132', 'Waseeb', '75', '89', '94', 86.0, 'A'],\n",
       " ['133', 'Shiza', '76', '90', '95', 87.0, 'A'],\n",
       " ['134', 'Shabina', '77', '91', '96', 88.0, 'A'],\n",
       " ['135', 'Shazain', '78', '55', '97', 76.67, 'B'],\n",
       " ['136', 'Lubna', '79', '61', '98', 79.33, 'B'],\n",
       " ['137', 'Laiba', '80', '88', '78', 82.0, 'A'],\n",
       " ['138', 'Khursheed', '81', '56', '45', 60.67, 'C'],\n",
       " ['139', 'Ali', '82', '89', '46', 72.33, 'B'],\n",
       " ['140', 'Aiza', '83', '45', '89', 72.33, 'B'],\n",
       " ['141', 'Aiman', '84', '92', '78', 84.67, 'A'],\n",
       " ['142', 'Yasmeen', '85', '36', '56', 59.0, 'D'],\n",
       " ['143', 'Tasbeel', '86', '78', '78', 80.67, 'A'],\n",
       " ['144', 'Laraib', '87', '56', '54', 65.67, 'C'],\n",
       " ['145', 'Saleem', '88', '78', '78', 81.33, 'A'],\n",
       " ['146', 'Bismil', '89', '89', '46', 74.67, 'B'],\n",
       " ['147', 'Batool', '90', '56', '79', 75.0, 'B'],\n",
       " ['148', 'Iqra', '91', '33', '46', 56.67, 'D'],\n",
       " ['149', 'Zarnish', '92', '78', '45', 71.67, 'B'],\n",
       " ['150', 'Zara', '83', '45', '56', 61.33, 'C']]"
      ]
     },
     "execution_count": 11,
     "metadata": {},
     "output_type": "execute_result"
    }
   ],
   "source": [
    "data"
   ]
  },
  {
   "cell_type": "code",
   "execution_count": 12,
   "id": "1888809c",
   "metadata": {},
   "outputs": [
    {
     "data": {
      "text/plain": [
       "<_io.TextIOWrapper name='Students Marks with per and grade.csv' mode='w' encoding='cp1252'>"
      ]
     },
     "execution_count": 12,
     "metadata": {},
     "output_type": "execute_result"
    }
   ],
   "source": [
    "updated = open(\"Students Marks with per and grade.csv\", mode = 'w', newline='')\n",
    "updated"
   ]
  },
  {
   "cell_type": "code",
   "execution_count": 13,
   "id": "3dc5af0f",
   "metadata": {},
   "outputs": [],
   "source": [
    "writer=csv.writer(updated)"
   ]
  },
  {
   "cell_type": "code",
   "execution_count": 14,
   "id": "45d114d7",
   "metadata": {},
   "outputs": [],
   "source": [
    "writer.writerows(data)"
   ]
  },
  {
   "cell_type": "code",
   "execution_count": 15,
   "id": "e09eea3e",
   "metadata": {},
   "outputs": [],
   "source": [
    "updated.close()"
   ]
  },
  {
   "cell_type": "code",
   "execution_count": null,
   "id": "41ac432e",
   "metadata": {},
   "outputs": [],
   "source": []
  }
 ],
 "metadata": {
  "kernelspec": {
   "display_name": "Python 3 (ipykernel)",
   "language": "python",
   "name": "python3"
  },
  "language_info": {
   "codemirror_mode": {
    "name": "ipython",
    "version": 3
   },
   "file_extension": ".py",
   "mimetype": "text/x-python",
   "name": "python",
   "nbconvert_exporter": "python",
   "pygments_lexer": "ipython3",
   "version": "3.11.4"
  }
 },
 "nbformat": 4,
 "nbformat_minor": 5
}
