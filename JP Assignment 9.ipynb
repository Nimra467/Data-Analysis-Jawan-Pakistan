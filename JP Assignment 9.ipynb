{
 "cells": [
  {
   "cell_type": "markdown",
   "id": "63180ecc",
   "metadata": {},
   "source": [
    "## Assignment 9 - Nimra Jawed"
   ]
  },
  {
   "cell_type": "markdown",
   "id": "2bf6c77b-bc8e-45a8-a853-401f0356badf",
   "metadata": {},
   "source": [
    "Q1:\n",
    "Write a Python program that:\n",
    "\n",
    "Has a balance of 1000.\n",
    "\n",
    "Asks the user for a withdrawal amount.\n",
    "\n",
    "Checks for these errors:\n",
    "\n",
    "Non-numeric input → print \"Please enter a valid number.\"\n",
    "\n",
    "Amount ≤ 0 → print \"Amount must be more than zero.\"\n",
    "\n",
    "Amount > balance → print \"Insufficient balance.\"\n",
    "\n",
    "If valid, deducts amount and shows remaining balance.\n",
    "\n",
    "Always prints \"Thank you for using the ATM.\"\n",
    "\n",
    "Expected Output:\n",
    "\n",
    "- Enter amount to withdraw: 1500\n",
    "\n",
    "  Insufficient balance.\n",
    "\n",
    "  Thank you for using the ATM.\n",
    "\n",
    "\n",
    "- Enter amount to withdraw:  0\n",
    "\n",
    "  Amount must be more than zero.\n",
    "\n",
    "  Thank you for using the ATM.\n",
    "\n",
    "\n",
    "- Enter amount to withdraw:  K\n",
    "\n",
    "\n",
    "  Please enter a valid number.\n",
    "\n",
    "  Thank you for using the ATM."
   ]
  },
  {
   "cell_type": "code",
   "execution_count": 1,
   "id": "00814fee",
   "metadata": {},
   "outputs": [
    {
     "name": "stdout",
     "output_type": "stream",
     "text": [
      "Enter amount to withdraw: 500\n",
      "Withdrawal successful. Remaining balance: 500.0\n",
      "Thank you for using the ATM.\n"
     ]
    }
   ],
   "source": [
    "balance = 1000\n",
    "\n",
    "amount = input(\"Enter amount to withdraw: \")\n",
    "\n",
    "try:\n",
    "   \n",
    "    amount = float(amount)\n",
    "\n",
    "    if amount <= 0:\n",
    "        print(\"Amount must be more than zero.\")\n",
    "    elif amount > balance:\n",
    "        print(\"Insufficient balance.\")\n",
    "    else:\n",
    "        balance -= amount\n",
    "        print(f\"Withdrawal successful. Remaining balance: {balance}\")\n",
    "\n",
    "except ValueError:\n",
    " \n",
    "    print(\"Please enter a valid number.\")\n",
    "\n",
    "print(\"Thank you for using the ATM.\")"
   ]
  },
  {
   "cell_type": "markdown",
   "id": "e7ca4d3f-3f2f-4b01-bc4c-28919084207c",
   "metadata": {},
   "source": [
    "Q2\n",
    "\n",
    "Write a Python program that:\n",
    "\n",
    "Has 5 seats available (available_seats = 5).\n",
    "\n",
    "Asks the user how many tickets they want to book.\n",
    "\n",
    "Checks for these cases:\n",
    "\n",
    "Non-numeric input → print \"Please enter a valid number.\"\n",
    "\n",
    "Tickets ≤ 0 → print \"You must book at least 1 ticket.\"\n",
    "\n",
    "Tickets more than available seats → print \"Not enough seats available.\"\n",
    "\n",
    "If valid, confirms the booking by printing how many tickets were booked.\n",
    "\n",
    "Always prints \"Thank you for booking with us.\" at the end.\n",
    "\n",
    "Expected Output:\n",
    "\n",
    "- How many tickets do you want to book? 3\n",
    "\n",
    "  3 ticket(s) booked successfully.\n",
    "\n",
    "  Thank you for booking with us.\n",
    "\n",
    "- How many tickets do you want to book? 0\n",
    "\n",
    "\n",
    "  You must book at least 1 ticket.\n",
    "\n",
    "  Thank you for booking with us.\n",
    "\n",
    "- How many tickets do you want to book? 7\n",
    "\n",
    "  Not enough seats available.\n",
    "\n",
    "  Thank you for booking with us.\n",
    "\n",
    "- How many tickets do you want to book? five\n",
    "\n",
    "  Please enter a valid number.\n",
    "\n",
    "  Thank you for booking with us.\n",
    "\n",
    "\n",
    "\n"
   ]
  },
  {
   "cell_type": "code",
   "execution_count": 2,
   "id": "904b9412",
   "metadata": {},
   "outputs": [
    {
     "name": "stdout",
     "output_type": "stream",
     "text": [
      "How many tickets do you want to book? 5\n",
      "5 ticket(s) booked successfully.\n",
      "Thank you for booking with us.\n"
     ]
    }
   ],
   "source": [
    "available_seats = 5\n",
    "\n",
    "tickets = input(\"How many tickets do you want to book? \")\n",
    "\n",
    "try:\n",
    "  \n",
    "    tickets = int(tickets)\n",
    "\n",
    "    if tickets <= 0:\n",
    "        print(\"You must book at least 1 ticket.\")\n",
    "    elif tickets > available_seats:\n",
    "        print(\"Not enough seats available.\")\n",
    "    else:\n",
    "        print(f\"{tickets} ticket(s) booked successfully.\")\n",
    "\n",
    "except ValueError:\n",
    "\n",
    "    print(\"Please enter a valid number.\")\n",
    "\n",
    "print(\"Thank you for booking with us.\")"
   ]
  },
  {
   "cell_type": "markdown",
   "id": "5dc01c7c-2a5b-4a18-bd8f-4b80f71b625b",
   "metadata": {},
   "source": [
    "Q3:\n",
    "\n",
    "Write a Python program that:\n",
    "\n",
    "Asks the user how many items they want to buy.\n",
    "\n",
    "If the user enters a non-number, print: \"Please enter a valid quantity.\"\n",
    "\n",
    "If the user enters a number less than 1, print: \"You must buy at least one item.\"\n",
    "\n",
    "If the input is valid, print: \"You added {quantity} item(s) to your cart.\"\n",
    "\n",
    "Expected Output:\n",
    "\n",
    "- Enter the number of items you want to buy: 3\n",
    "\n",
    "  You added 3 item(s) to your cart.\n",
    "\n",
    "- Enter the number of items you want to buy: 0\n",
    "\n",
    "    You must buy at least one item.\n",
    "\n",
    "- Enter the number of items you want to buy: five\n",
    "\n",
    "  Please enter a valid quantity.\n",
    "\n"
   ]
  },
  {
   "cell_type": "code",
   "execution_count": 3,
   "id": "2238e8c3",
   "metadata": {},
   "outputs": [
    {
     "name": "stdout",
     "output_type": "stream",
     "text": [
      "Enter the number of items you want to buy: 6\n",
      "You added 6 item(s) to your cart.\n"
     ]
    }
   ],
   "source": [
    "quantity = input(\"Enter the number of items you want to buy: \")\n",
    "\n",
    "try:\n",
    "    quantity = int(quantity)\n",
    "\n",
    "    if quantity < 1:\n",
    "        print(\"You must buy at least one item.\")\n",
    "    else:\n",
    "        print(f\"You added {quantity} item(s) to your cart.\")\n",
    "\n",
    "except ValueError:\n",
    "    print(\"Please enter a valid quantity.\")"
   ]
  },
  {
   "cell_type": "markdown",
   "id": "3ac27741-aec9-45ae-83c5-8648e53245cd",
   "metadata": {},
   "source": [
    "Q4:\n",
    "Write a Python program that:\n",
    "\n",
    "Asks the user to enter a number between 1 and 7.\n",
    "\n",
    "If the number is between 1 and 7, prints the corresponding day of the week (1 = Monday, 7 = Sunday).\n",
    "\n",
    "If the number is outside this range, prints: \"Please enter a number between 1 and 7.\"\n",
    "\n",
    "Handles invalid input (non-numbers) by printing: \"Please enter a valid number.\"\n",
    "\n",
    "Expected Output:\n",
    "\n",
    "- Enter a day number (1-7): 3\n",
    "\n",
    "  Day is Wednesday\n",
    "\n",
    "- Enter a day number (1-7): 9\n",
    "\n",
    "    Please enter a number between 1 and 7.\n",
    "\n",
    "- Enter a day number (1-7): five\n",
    "\n",
    "  Please enter a valid number.\n",
    "\n",
    "\n"
   ]
  },
  {
   "cell_type": "code",
   "execution_count": 4,
   "id": "4809cd3e",
   "metadata": {},
   "outputs": [
    {
     "name": "stdout",
     "output_type": "stream",
     "text": [
      "Enter a day number (1-7): 4\n",
      "Day is Thursday\n"
     ]
    }
   ],
   "source": [
    "\n",
    "day_number = input(\"Enter a day number (1-7): \")\n",
    "\n",
    "try:\n",
    "\n",
    "    day_number = int(day_number)\n",
    "\n",
    "    if 1 <= day_number <= 7:\n",
    "        days = [\"Monday\", \"Tuesday\", \"Wednesday\", \"Thursday\", \"Friday\", \"Saturday\", \"Sunday\"]\n",
    "        print(\"Day is\", days[day_number - 1])\n",
    "    else:\n",
    "        print(\"Please enter a number between 1 and 7.\")\n",
    "\n",
    "except ValueError:\n",
    "\n",
    "    print(\"Please enter a valid number.\")\n"
   ]
  },
  {
   "cell_type": "markdown",
   "id": "ae60a0eb-b305-425f-b90e-808005f8cefb",
   "metadata": {},
   "source": [
    "Q5:\n",
    "\n",
    "Write a Python program that:\n",
    "\n",
    "Asks the user how many days late they are returning a book.\n",
    "\n",
    "Calculates a fine: $0.50 per day late.\n",
    "\n",
    "If the user enters a negative number, print: \"Days late cannot be negative.\"\n",
    "\n",
    "If the input is invalid (not a number), print: \"Please enter a valid number.\"\n",
    "\n",
    "Otherwise, print the total fine.\n",
    "\n",
    "Expected Output:\n",
    "\n",
    "- Enter the number of days late: 4\n",
    "\n",
    "  Total fine: $2.00\n",
    "\n",
    "- Enter the number of days late: 0\n",
    "\n",
    "  Total fine: $0.00\n",
    "\n",
    "- Enter the number of days late: -3\n",
    "\n",
    "    Days late cannot be negative.\n",
    "\n",
    "- Enter the number of days late: five\n",
    "\n",
    "\n",
    "  Please enter a valid number.\n",
    "\n",
    "\n",
    "\n"
   ]
  },
  {
   "cell_type": "code",
   "execution_count": 5,
   "id": "69e171ce",
   "metadata": {},
   "outputs": [
    {
     "name": "stdout",
     "output_type": "stream",
     "text": [
      "Enter the number of days late: 3\n",
      "Total fine: $1.50\n"
     ]
    }
   ],
   "source": [
    "\n",
    "days_late = input(\"Enter the number of days late: \")\n",
    "\n",
    "try:\n",
    "\n",
    "    days_late = int(days_late)\n",
    "\n",
    "    if days_late < 0:\n",
    "        print(\"Days late cannot be negative.\")\n",
    "    else:\n",
    "        fine = days_late * 0.50\n",
    "        print(f\"Total fine: ${fine:.2f}\")\n",
    "\n",
    "except ValueError:\n",
    "\n",
    "    print(\"Please enter a valid number.\")\n"
   ]
  },
  {
   "cell_type": "markdown",
   "id": "0c62f22a-9cd0-4092-81d7-f9a1dfd27478",
   "metadata": {},
   "source": [
    "Q6:\n",
    "Define a class named Book that has the following attributes:\n",
    "\n",
    "title (string)\n",
    "\n",
    "author (string)\n",
    "\n",
    "year (integer)\n",
    "\n",
    "Write a constructor (__init__) that initializes these attributes when a Book object is created.\n",
    "\n",
    "Then, create an object of the Book class with sample data (e.g., title = \"To Kill a Mockingbird\", author = \"Harper Lee\", year = 1960).\n",
    "\n",
    "Finally, print the values of the object's attributes (title, author, and year\n",
    "\n",
    "Expected Output:\n",
    "\n",
    "To Kill a Mockingbird\n",
    "\n",
    "Harper Lee\n",
    "\n",
    "1960\n"
   ]
  },
  {
   "cell_type": "code",
   "execution_count": 6,
   "id": "1608f809",
   "metadata": {},
   "outputs": [
    {
     "name": "stdout",
     "output_type": "stream",
     "text": [
      "To Kill a Mockingbird\n",
      "Harper Lee\n",
      "1960\n"
     ]
    }
   ],
   "source": [
    "\n",
    "class Book:\n",
    "    def __init__(self, title, author, year):\n",
    "        self.title = title\n",
    "        self.author = author\n",
    "        self.year = year\n",
    "\n",
    "book1 = Book(\"To Kill a Mockingbird\", \"Harper Lee\", 1960)\n",
    "\n",
    "print(book1.title)\n",
    "print(book1.author)\n",
    "print(book1.year)\n"
   ]
  },
  {
   "cell_type": "markdown",
   "id": "865ebbd2-6635-46b3-8dd5-67f3939287e6",
   "metadata": {},
   "source": [
    "Q7:\n",
    "\n",
    "Define a class named Book with the following:\n",
    "\n",
    "A constructor (__init__) that initializes three attributes: title, author, and year.\n",
    "\n",
    "A method display_info() that prints the book details in the format:\n",
    "\n",
    "'{title}' by {author}, published in {year}.\n",
    "\n",
    "A method is_classic() that simply prints:\n",
    "\n",
    "\"This is a book.\"\n",
    "\n",
    "Create an object of the Book class using this data:\n",
    "\n",
    "Title: \"To Kill a Mockingbird\"\n",
    "\n",
    "Author: \"Harper Lee\"\n",
    "\n",
    "Year: 1960\n",
    "\n",
    "Call both methods on the object.\n",
    "\n",
    "Expected Output:\n",
    "\n",
    "'To Kill a Mockingbird' by Harper Lee, published in 1960.\n",
    "\n",
    "This is a book.\n",
    "\n"
   ]
  },
  {
   "cell_type": "code",
   "execution_count": 7,
   "id": "e57a1530",
   "metadata": {},
   "outputs": [
    {
     "name": "stdout",
     "output_type": "stream",
     "text": [
      "'To Kill a Mockingbird' by Harper Lee, published in 1960.\n",
      "This is a book.\n"
     ]
    }
   ],
   "source": [
    "\n",
    "class Book:\n",
    "    def __init__(self, title, author, year):\n",
    "        self.title = title\n",
    "        self.author = author\n",
    "        self.year = year\n",
    "\n",
    "    def display_info(self):\n",
    "        print(f\"'{self.title}' by {self.author}, published in {self.year}.\")\n",
    "\n",
    "    def is_classic(self):\n",
    "        print(\"This is a book.\")\n",
    "\n",
    "book1 = Book(\"To Kill a Mockingbird\", \"Harper Lee\", 1960)\n",
    "\n",
    "book1.display_info()\n",
    "book1.is_classic()\n"
   ]
  },
  {
   "cell_type": "markdown",
   "id": "aa6ad4bb-1c4c-4765-b1e0-98068f7c89b8",
   "metadata": {},
   "source": [
    "Q8:\n",
    "\n",
    "Define a class named Student that has the following:\n",
    "\n",
    "Attributes: name, grade, and age.\n",
    "\n",
    "A method introduce() that prints:\n",
    "\n",
    "\"My name is {name}, I am {age} years old.\"\n",
    "\n",
    "A method show_grade() that prints:\n",
    "\n",
    "\"My grade is {grade}.\"\n",
    "\n",
    "Create an object of the Student class with sample data (e.g., \"Alice\", \"A\", 16), and call both methods on the object.\n",
    "\n",
    "Expected Output:\n",
    "\n",
    "My name is Alice, I am 16 years old.\n",
    "\n",
    "My grade is A.\n"
   ]
  },
  {
   "cell_type": "code",
   "execution_count": 8,
   "id": "44b8ab9d",
   "metadata": {},
   "outputs": [
    {
     "name": "stdout",
     "output_type": "stream",
     "text": [
      "My name is Alice, I am 16 years old.\n",
      "My grade is A.\n"
     ]
    }
   ],
   "source": [
    "\n",
    "class Student:\n",
    "    def __init__(self, name, grade, age):\n",
    "        self.name = name\n",
    "        self.grade = grade\n",
    "        self.age = age\n",
    "\n",
    "    def introduce(self):\n",
    "        print(f\"My name is {self.name}, I am {self.age} years old.\")\n",
    "\n",
    "    def show_grade(self):\n",
    "        print(f\"My grade is {self.grade}.\")\n",
    "\n",
    "student1 = Student(\"Alice\", \"A\", 16)\n",
    "\n",
    "student1.introduce()\n",
    "student1.show_grade()"
   ]
  },
  {
   "cell_type": "markdown",
   "id": "525dd92f-d478-42fe-b48f-705262d24ee3",
   "metadata": {},
   "source": [
    "Q9:\n",
    "\n",
    "Define a class named Light with two methods:\n",
    "\n",
    "turn_on() — prints: \"The light is now ON.\"\n",
    "\n",
    "check_status() — prints: \"The light is bright and working.\"\n",
    "\n",
    "Create an object of the Light class and call both methods.\n",
    "\n",
    "Expected Output:\n",
    "\n",
    "The light is now ON.\n",
    "\n",
    "The light is bright and working."
   ]
  },
  {
   "cell_type": "code",
   "execution_count": 9,
   "id": "4c1cf3c0",
   "metadata": {},
   "outputs": [
    {
     "name": "stdout",
     "output_type": "stream",
     "text": [
      "The light is now ON.\n",
      "The light is bright and working.\n"
     ]
    }
   ],
   "source": [
    "class Light:\n",
    "    def turn_on(self):\n",
    "        print(\"The light is now ON.\")\n",
    "\n",
    "    def check_status(self):\n",
    "        print(\"The light is bright and working.\")\n",
    "\n",
    "light1 = Light()\n",
    "\n",
    "light1.turn_on()\n",
    "light1.check_status()"
   ]
  },
  {
   "cell_type": "markdown",
   "id": "229582cf-8c57-44e9-89e5-ab363c727f0d",
   "metadata": {},
   "source": [
    "Q10:\n",
    "\n",
    "available_slots = [101, 102, 103, 104, 105]\n",
    "\n",
    "reserved =  [106, 107, 108, 109, 110]\n",
    "\n",
    "You manage a parking lot with two lists:\n",
    "\n",
    "available_slots — parking slots that are free and can be reserved.\n",
    "\n",
    "reserved — parking slots that are already taken.\n",
    "\n",
    "Write a program that:\n",
    "\n",
    "Asks the user to enter a parking slot number they want to reserve.\n",
    "\n",
    "Checks the slot number:\n",
    "\n",
    "If the slot is in available_slots, confirm the reservation by printing:\n",
    "\n",
    "\"Slot {slot} is reserved for you.\"\n",
    "\n",
    "If the slot is in reserved, print:\n",
    "\n",
    "\"Slot {slot} is already reserved by someone else.\"\n",
    "\n",
    "If the slot is not in either list, print:\n",
    "\n",
    "\"Slot {slot} does not exist.\"\n",
    "\n",
    "Handles invalid input (non-integer) with an error message:\n",
    "\n",
    "\"Invalid input. Please enter a valid slot number.\"\n",
    "\n",
    "Expected Output:\n",
    "\n",
    "- Enter the parking slot number you want to reserve: 103\n",
    "\n",
    "    Slot 103 is reserved for you.\n",
    "\n",
    "- Enter the parking slot number you want to reserve: 107\n",
    "\n",
    "    Slot 107 is already reserved by someone else.\n",
    "\n",
    "- Enter the parking slot number you want to reserve: 999\n",
    "\n",
    "    Slot 999 does not exist.\n",
    "\n",
    "- Enter the parking slot number you want to reserve: abc\n",
    "\n",
    "  Invalid input. Please enter a valid slot number.\n"
   ]
  },
  {
   "cell_type": "code",
   "execution_count": 10,
   "id": "a919b173",
   "metadata": {},
   "outputs": [
    {
     "name": "stdout",
     "output_type": "stream",
     "text": [
      "Enter the parking slot number you want to reserve: 3\n",
      "Slot 3 does not exist.\n"
     ]
    }
   ],
   "source": [
    "available_slots = [101, 102, 103, 104, 105]\n",
    "reserved = [106, 107, 108, 109, 110]\n",
    "\n",
    "slot_input = input(\"Enter the parking slot number you want to reserve: \")\n",
    "\n",
    "try:\n",
    "    \n",
    "    slot = int(slot_input)\n",
    "\n",
    "    if slot in available_slots:\n",
    "        print(f\"Slot {slot} is reserved for you.\")\n",
    "    elif slot in reserved:\n",
    "        print(f\"Slot {slot} is already reserved by someone else.\")\n",
    "    else:\n",
    "        print(f\"Slot {slot} does not exist.\")\n",
    "\n",
    "except ValueError:\n",
    "\n",
    "    print(\"Invalid input. Please enter a valid slot number.\")"
   ]
  },
  {
   "cell_type": "code",
   "execution_count": null,
   "id": "a99e6173-631a-4c7e-ad31-04cba55339cf",
   "metadata": {},
   "outputs": [],
   "source": []
  },
  {
   "cell_type": "code",
   "execution_count": null,
   "id": "c69b098c-daec-4a97-90cb-cce904132cf2",
   "metadata": {},
   "outputs": [],
   "source": []
  },
  {
   "cell_type": "code",
   "execution_count": null,
   "id": "baaf38ea-efea-4b43-890a-a64ceeb4f538",
   "metadata": {},
   "outputs": [],
   "source": []
  },
  {
   "cell_type": "code",
   "execution_count": null,
   "id": "7b1ec6ab-191d-440d-bb7a-aa4f35466399",
   "metadata": {},
   "outputs": [],
   "source": []
  }
 ],
 "metadata": {
  "kernelspec": {
   "display_name": "Python 3 (ipykernel)",
   "language": "python",
   "name": "python3"
  },
  "language_info": {
   "codemirror_mode": {
    "name": "ipython",
    "version": 3
   },
   "file_extension": ".py",
   "mimetype": "text/x-python",
   "name": "python",
   "nbconvert_exporter": "python",
   "pygments_lexer": "ipython3",
   "version": "3.11.4"
  }
 },
 "nbformat": 4,
 "nbformat_minor": 5
}
