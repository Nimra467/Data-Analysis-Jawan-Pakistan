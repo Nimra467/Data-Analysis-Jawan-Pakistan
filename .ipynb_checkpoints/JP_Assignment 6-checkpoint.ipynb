{
 "cells": [
  {
   "cell_type": "markdown",
   "id": "828ce725",
   "metadata": {},
   "source": [
    "# Assignment 6 - Nimra Jawed"
   ]
  },
  {
   "cell_type": "markdown",
   "id": "7e777340-fcd5-4c13-9ae0-e80ade2b8a3a",
   "metadata": {},
   "source": [
    "Q1. Write a Python program that prints the multiplication table for a given number (between 1 and 10) using a for loop.\n",
    "\n",
    "Hint:\n",
    "\n",
    "Ask the user for a number between 1 and 10 .\n",
    "Use a for loop to iterate through the numbers from 1 to 10.\n",
    "For each iteration, calculate the product of the given number and the current number in the loop.\n",
    "Print the result in a readable format (e.g., 5 x 1 = 5).\n",
    "Ensure the program works correctly for any number between 1 and 10.\n",
    "Output Hint:\n",
    "\n",
    "- 4 x 1 = 4\n",
    "- 4 x 2 = 8\n",
    "- 4 x 3 = 12\n",
    "- 4 x 4 = 16\n",
    "- 4 x 5 = 20\n",
    "- 4 x 6 = 24\n",
    "- 4 x 7 = 28\n",
    "- 4 x 8 = 32\n",
    "- 4 x 9 = 36\n",
    "- 4 x 10 = 40"
   ]
  },
  {
   "cell_type": "code",
   "execution_count": 10,
   "id": "a08acb3e",
   "metadata": {},
   "outputs": [
    {
     "name": "stdout",
     "output_type": "stream",
     "text": [
      "Enter any number to print table: 6\n",
      "6 x 1 = 6\n",
      "6 x 2 = 12\n",
      "6 x 3 = 18\n",
      "6 x 4 = 24\n",
      "6 x 5 = 30\n",
      "6 x 6 = 36\n",
      "6 x 7 = 42\n",
      "6 x 8 = 48\n",
      "6 x 9 = 54\n",
      "6 x 10 = 60\n"
     ]
    }
   ],
   "source": [
    "number= int(input(\"Enter any number to print table: \"))\n",
    "for i in range (1,11):\n",
    "    print(number,\"x\",i,\"=\",number*i)"
   ]
  },
  {
   "cell_type": "markdown",
   "id": "93c6d6ba-b4ef-4284-a0e9-9db6eaf2a2cf",
   "metadata": {},
   "source": [
    "Q2. Stop sending emails after 3 users (Using for loop and break)\n",
    "\n",
    "users = [\"Ali\", \"Sara\", \"John\", \"Zara\", \"Mike\"]\n",
    "\n",
    "Output:\n",
    "\n",
    "Email sent to Ali\n",
    "\n",
    "Email sent to Sara\n",
    "\n",
    "Email sent to John\n",
    "\n",
    "Limit reached. Stop sending emails."
   ]
  },
  {
   "cell_type": "code",
   "execution_count": 2,
   "id": "60b35c08",
   "metadata": {},
   "outputs": [
    {
     "name": "stdout",
     "output_type": "stream",
     "text": [
      "Email sent to Ali\n",
      "Email sent to Sara\n",
      "Email sent to John\n",
      "Email sent to Zara\n",
      "Limit reached. stop sending email\n"
     ]
    }
   ],
   "source": [
    "users = [\"Ali\", \"Sara\",\"John\", \"Zara\",\"Mike\"]\n",
    "for x in range(len(users)):\n",
    "    print(\"Email sent to\", users[x])\n",
    "    if x == 3:\n",
    "        print(\"Limit reached. stop sending email\")\n",
    "        break"
   ]
  },
  {
   "cell_type": "markdown",
   "id": "fa38e056-f606-41d9-8748-2209cb4eaad7",
   "metadata": {},
   "source": [
    "Q3. Stop monitoring temperature if critical temperature reached (Using for loop and break)\n",
    "\n",
    "temps = [22, 25, 30, 45, 28]\n",
    "critical = 40\n",
    "\n",
    "Ouput:\n",
    "\n",
    "Temperature: 22\n",
    "\n",
    "Temperature: 25\n",
    "\n",
    "Temperature: 30\n",
    "\n",
    "Critical temperature reached! Stop monitoring."
   ]
  },
  {
   "cell_type": "code",
   "execution_count": 3,
   "id": "0a477eab",
   "metadata": {},
   "outputs": [
    {
     "name": "stdout",
     "output_type": "stream",
     "text": [
      "Temperature:  22\n",
      "Temperature:  25\n",
      "Temperature:  30\n",
      "Temperature:  45\n",
      "Temperature:  28\n"
     ]
    }
   ],
   "source": [
    "temps = [22, 25, 30, 45, 28]\n",
    "critical = 40\n",
    "for x in range (len(temps)):\n",
    "    print(\"Temperature: \",temps[x])\n",
    "    if temps[x]==critical:\n",
    "        print(\"Critical temperature reached! Stop monitoring.\")\n",
    "        break"
   ]
  },
  {
   "cell_type": "markdown",
   "id": "7f5bbc99-28e7-4866-b306-58221f72076c",
   "metadata": {},
   "source": [
    "Q4. Calculate total price of items in a shopping cart (Using For loop)\n",
    "\n",
    "cart = [100, 250, 50, 300]\n",
    "\n",
    "Output:\n",
    "\n",
    "Total Price: 700"
   ]
  },
  {
   "cell_type": "markdown",
   "id": "d01d8825-6b0a-44f5-962f-f805700a8e08",
   "metadata": {},
   "source": [
    "Q5. Skip customers with unpaid bills (Using For loop and continue)\n",
    "\n",
    "customers = [\n",
    "    {\"name\": \"Ali\", \"paid\": True},\n",
    "    \n",
    "    {\"name\": \"Sara\", \"paid\": False},\n",
    "    \n",
    "    {\"name\": \"John\", \"paid\": True}\n",
    "]\n",
    "\n",
    "\n",
    "Output:\n",
    "\n",
    "Access granted to: Ali\n",
    "\n",
    "Access granted to: John\n"
   ]
  },
  {
   "cell_type": "code",
   "execution_count": 4,
   "id": "190fd648",
   "metadata": {},
   "outputs": [
    {
     "name": "stdout",
     "output_type": "stream",
     "text": [
      "Access granted to: Ali\n",
      "Access granted to: John\n"
     ]
    }
   ],
   "source": [
    "customers = [\n",
    "    {\"name\": \"Ali\", \"paid\": True},\n",
    "    \n",
    "    {\"name\": \"Sara\", \"paid\": False},\n",
    "    \n",
    "    {\"name\": \"John\", \"paid\": True}\n",
    "]\n",
    "\n",
    "for cust in customers:\n",
    "    if cust['paid'] == True:\n",
    "        print(\"Access granted to:\", cust['name'])"
   ]
  },
  {
   "cell_type": "markdown",
   "id": "f6cfe812-c319-40e5-ac17-cef6e72488dd",
   "metadata": {},
   "source": [
    "Q6. Send personalized emails to a list of users (Using for loop)\n",
    "\n",
    "users = [\"Ali\", \"Sara\", \"John\"]\n",
    "\n",
    "Output:\n",
    "\n",
    "- Hello Ali, your subscription is active!\n",
    "- Hello Sara, your subscription is active!\n",
    "- Hello John, your subscription is active!\n"
   ]
  },
  {
   "cell_type": "code",
   "execution_count": 5,
   "id": "a90296d7",
   "metadata": {},
   "outputs": [
    {
     "name": "stdout",
     "output_type": "stream",
     "text": [
      "Hello Ali, your subscription is active!\n",
      "Hello Sara, your subscription is active!\n",
      "Hello John, your subscription is active!\n"
     ]
    }
   ],
   "source": [
    "users = [\"Ali\", \"Sara\",\"John\"]\n",
    "\n",
    "for user in users:\n",
    "    print(f\"Hello {user}, your subscription is active!\")"
   ]
  },
  {
   "cell_type": "markdown",
   "id": "8ac2616e-f0fb-433f-a1c5-0adf73e50429",
   "metadata": {},
   "source": [
    "Q7. Extract domain names from email list (Using for loop)\n",
    "\n",
    "emails = [\"ali@gmail.com\", \"sara@yahoo.com\", \"john@hotmail.com\"]\n",
    "\n",
    "Output:\n",
    "\n",
    "domains: ['gmail.com', 'yahoo.com', 'hotmail.com']\n"
   ]
  },
  {
   "cell_type": "code",
   "execution_count": 6,
   "id": "bf0ad492",
   "metadata": {},
   "outputs": [
    {
     "name": "stdout",
     "output_type": "stream",
     "text": [
      "domains: ['gmail.com', 'yahoo.com', 'hotmail.com']\n"
     ]
    }
   ],
   "source": [
    "emails = [\"ali@gmail.com\", \"sara@yahoo.com\", \"john@hotmail.com\"]\n",
    "\n",
    "domains = []\n",
    "\n",
    "for email in emails:\n",
    "    domain = email.split(\"@\")[1]\n",
    "    domains.append(domain)\n",
    "\n",
    "print(\"domains:\", domains)\n"
   ]
  },
  {
   "cell_type": "markdown",
   "id": "bc118672-58b5-44e3-8895-0685921efdda",
   "metadata": {},
   "source": [
    "Q8. Print only overdue tasks (Using for loop)\n",
    "\n",
    "tasks = [\n",
    "    {\"task\": \"Pay bills\", \"status\": \"done\"},\n",
    "    \n",
    "    {\"task\": \"Submit report\", \"status\": \"pending\"},\n",
    "    \n",
    "    {\"task\": \"Clean house\", \"status\": \"pending\"}\n",
    "]\n",
    "\n",
    "\n",
    "Ouput:\n",
    "\n",
    "Overdue: Submit report\n",
    "\n",
    "Overdue: Clean house"
   ]
  },
  {
   "cell_type": "code",
   "execution_count": 7,
   "id": "f5531bf0",
   "metadata": {},
   "outputs": [
    {
     "name": "stdout",
     "output_type": "stream",
     "text": [
      "Overdue: Submit report\n",
      "Overdue: Clean house\n"
     ]
    }
   ],
   "source": [
    "tasks = [\n",
    "    {\"task\": \"Pay bills\", \"status\": \"done\"},\n",
    "    {\"task\": \"Submit report\", \"status\": \"pending\"},\n",
    "    {\"task\": \"Clean house\", \"status\": \"pending\"}\n",
    "]\n",
    "\n",
    "for task in tasks:\n",
    "    if task[\"status\"] == \"pending\":\n",
    "        print(\"Overdue:\", task[\"task\"])\n"
   ]
  },
  {
   "cell_type": "markdown",
   "id": "c3d3986b-d13f-4afd-829d-b7b1a6f8a526",
   "metadata": {},
   "source": [
    "Q9. Extract names of employees with salary above 50,000\n",
    "\n",
    "employees = [\n",
    "    {\"name\": \"Ali\", \"salary\": 60000},\n",
    "    \n",
    "    {\"name\": \"Sara\", \"salary\": 45000},\n",
    "    \n",
    "    {\"name\": \"John\", \"salary\": 70000}\n",
    "]\n",
    "\n",
    "\n",
    "Output:\n",
    "\n",
    "Ali earns above 50,000\n",
    "\n",
    "John earns above 50,000"
   ]
  },
  {
   "cell_type": "code",
   "execution_count": 8,
   "id": "8dd25086",
   "metadata": {},
   "outputs": [
    {
     "name": "stdout",
     "output_type": "stream",
     "text": [
      "Ali earns above 50000\n",
      "John earns above 50000\n"
     ]
    }
   ],
   "source": [
    "employees = [ {\"name\": \"Ali\", \"salary\": 60000},\n",
    "\n",
    "{\"name\": \"Sara\", \"salary\": 45000},\n",
    "\n",
    "{\"name\": \"John\", \"salary\": 70000}\n",
    "]\n",
    "for employee in employees:\n",
    "    if employee[\"salary\"] > 50000:\n",
    "        print(employee[\"name\"], \"earns above 50000\")"
   ]
  },
  {
   "cell_type": "markdown",
   "id": "f1db4dfb-ea09-4b1b-9383-28d7a5253f06",
   "metadata": {},
   "source": [
    "Q10. Skip weekends while printing workdays (Using for loop and continue)\n",
    "\n",
    "days = [\"Monday\", \"Tuesday\", \"Wednesday\", \"Thursday\", \"Friday\", \"Saturday\", \"Sunday\"]\n",
    "\n",
    "Output:\n",
    "\n",
    "Workday: Monday\n",
    "\n",
    "Workday: Tuesday\n",
    "\n",
    "Workday: Wednesday\n",
    "\n",
    "Workday: Thursday\n",
    "\n",
    "Workday: Friday\n"
   ]
  },
  {
   "cell_type": "code",
   "execution_count": 9,
   "id": "3909f284-36f9-401d-95b9-83d2a1b65f71",
   "metadata": {},
   "outputs": [
    {
     "name": "stdout",
     "output_type": "stream",
     "text": [
      "Workday: Monday\n",
      "Workday: Tuesday\n",
      "Workday: Wednesday\n",
      "Workday: Thursday\n",
      "Workday: Friday\n"
     ]
    }
   ],
   "source": [
    "days = [\"Monday\", \"Tuesday\", \"Wednesday\", \"Thursday\", \"Friday\", \"Saturday\", \"Sunday\"] \n",
    "for day in days:\n",
    "    if day == \"Saturday\" or day == \"Sunday\":\n",
    "        continue  \n",
    "    print(\"Workday:\", day)"
   ]
  },
  {
   "cell_type": "code",
   "execution_count": null,
   "id": "579dddfe",
   "metadata": {},
   "outputs": [],
   "source": []
  }
 ],
 "metadata": {
  "kernelspec": {
   "display_name": "Python 3 (ipykernel)",
   "language": "python",
   "name": "python3"
  },
  "language_info": {
   "codemirror_mode": {
    "name": "ipython",
    "version": 3
   },
   "file_extension": ".py",
   "mimetype": "text/x-python",
   "name": "python",
   "nbconvert_exporter": "python",
   "pygments_lexer": "ipython3",
   "version": "3.11.4"
  }
 },
 "nbformat": 4,
 "nbformat_minor": 5
}
